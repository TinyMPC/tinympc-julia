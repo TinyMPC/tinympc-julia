{
 "cells": [
  {
   "attachments": {},
   "cell_type": "markdown",
   "metadata": {},
   "source": [
    "# Julia Interactive Example: TinyMPC on Cartpole (Extended Version)\n",
    "In this demonstration, we showcase an interactive Julia workflow using TinyMPC. You can generate C++ code and engage with it seamlessly within the Julia environment. This example guides you through the entire workflow, beginning with the cartpole's nonlinear dynamics.\n",
    "\n",
    "If any issues arise, restart the kernel."
   ]
  },
  {
   "attachments": {},
   "cell_type": "markdown",
   "metadata": {},
   "source": [
    "Load necessary packages, make sure to install `tinympc` ([README.md](../README.md))"
   ]
  },
  {
   "cell_type": "code",
   "execution_count": null,
   "metadata": {},
   "outputs": [],
   "source": [
    "import Pkg;\n",
    "Pkg.activate(@__DIR__);\n",
    "Pkg.instantiate()\n",
    "\n",
    "using Libdl\n",
    "using LinearAlgebra\n",
    "import ForwardDiff as FD\n",
    "\n",
    "include(joinpath(@__DIR__,\"../tinympc/TinyMPC.jl\"))\n",
    "using .TinyMPC\n",
    "include(\"visualization.jl\") # for visualization"
   ]
  },
  {
   "attachments": {},
   "cell_type": "markdown",
   "metadata": {},
   "source": [
    "## Cartpole Dynamics\n",
    "Build the cartpole nonlinear dynamics and linearize around upright state using `ForwardDiff`. "
   ]
  },
  {
   "cell_type": "code",
   "execution_count": null,
   "metadata": {},
   "outputs": [],
   "source": [
    "freq = 100  # frequency of the controller and dynamics Hz\n",
    "dt = 1/freq  # time step\n",
    "\n",
    "# cartpole dynamics with theta = 0 at the down position\n",
    "function cartpole_dynamics(x::Vector, u::Vector)\n",
    "    g = -9.8  # gravity m/s^2\n",
    "    m = 0.2  # mass of the pole kg\n",
    "    M = 0.5  # mass of the cart kg\n",
    "    l = 0.3  # length of the pole m\n",
    "\n",
    "    x, x_dot, theta, theta_dot = x\n",
    "    u = u[1]\n",
    "\n",
    "    x_ddot = (u + m * l * theta_dot^2 * sin(theta) - m * g * sin(theta) * cos(theta)) / (M + m * sin(theta)^2)\n",
    "    theta_ddot = (-u * cos(theta) - m * l * theta_dot^2 * sin(theta) * cos(theta) + (M + m) * g * sin(theta)) / (l * (M + m * sin(theta)^2))\n",
    "\n",
    "    return [x_dot, x_ddot, theta_dot, theta_ddot]\n",
    "end    \n",
    "function rk4(x::Vector, u::Vector)\n",
    "    f = cartpole_dynamics\n",
    "    k1 = f(x, u)\n",
    "    k2 = f(x + dt * k1 / 2, u)\n",
    "    k3 = f(x + dt * k2 / 2, u)\n",
    "    k4 = f(x + dt * k3, u)\n",
    "    return x + dt / 6 * (k1 + 2 * k2 + 2 * k3 + k4)\n",
    "end\n",
    "function cartpole_dynamics_rk4(x::Vector, u::Vector)\n",
    "    return rk4(x, u)\n",
    "end\n",
    "\n",
    "# Linearize the dynamics around x0, u0\n",
    "x0 = [0, 0, pi, 0.0]\n",
    "u0 = [0.]\n",
    "Anp = FD.jacobian(x -> cartpole_dynamics_rk4(x, u0), x0)\n",
    "Bnp = FD.jacobian(u -> cartpole_dynamics_rk4(x0, u), u0)\n",
    "display(Anp)\n",
    "display(Bnp)"
   ]
  },
  {
   "cell_type": "code",
   "execution_count": null,
   "metadata": {},
   "outputs": [],
   "source": [
    "x_all = [zeros(4) for i in 1:300]\n",
    "# simulate the dynamics with the zero controller\n",
    "x = [0, 0, 0.1, 0]\n",
    "for i in 1:300\n",
    "    x = cartpole_dynamics_rk4(x, u0)\n",
    "    x_all[i] = x\n",
    "end\n",
    "# Go to the visualization part at the end and run it to see the trajectory `x_all`"
   ]
  },
  {
   "attachments": {},
   "cell_type": "markdown",
   "metadata": {},
   "source": [
    "## LQR Controller\n",
    "\n",
    "Let's run LQR on the linearized model"
   ]
  },
  {
   "cell_type": "code",
   "execution_count": null,
   "metadata": {},
   "outputs": [],
   "source": [
    "# Riccati recursion on the linearized dynamics\n",
    "Q = Diagonal([10, 1, 10, 1.])\n",
    "R = Diagonal([1.])\n",
    "P = 1*Q\n",
    "K = zeros(1, 4)\n",
    "for i in 1:100\n",
    "    P = Q + Anp' * P * Anp - Anp' * P * Bnp * inv(R + Bnp' * P * Bnp) * Bnp' * P * Anp\n",
    "    K = inv(R + Bnp' * P * Bnp) * Bnp' * P * Anp\n",
    "end\n",
    "display(K)\n",
    "\n",
    "# LQR controller\n",
    "function lqr_controller(x::Vector)\n",
    "    return -K * x\n",
    "end\n",
    "\n",
    "# simulate the dynamics with the LQR controller\n",
    "x = [0, 0, pi - 0.1, 0.0] # initial state\n",
    "for i in 1:300\n",
    "    u = lqr_controller(x - x0)\n",
    "    x = cartpole_dynamics_rk4(x, u)\n",
    "    x_all[i] = x\n",
    "end\n",
    "# Go to the visualization part at the end and run it to see the trajectory `x_all`"
   ]
  },
  {
   "attachments": {},
   "cell_type": "markdown",
   "metadata": {},
   "source": [
    "## Code Generation\n",
    "\n",
    "We are done with the dynamics and LQR controller. Now, let's define the class and compile original TinyMPC code to get a generic shared/dynamic library\n",
    "\n",
    "**PLEASE CHANGE `tinympc_julia_dir` TO YOUR ABSOLUTE PATH**"
   ]
  },
  {
   "cell_type": "code",
   "execution_count": null,
   "metadata": {},
   "outputs": [],
   "source": [
    "tinympc_julia_dir = \"/home/khai/SSD/Code/tinympc-julia\"  # Your absolute path to the tinympc-Julia directory, you need to change this\n",
    "tinympc_dir = tinympc_julia_dir * \"/tinympc/TinyMPC\"  # Path to the TinyMPC directory (C code)\n",
    "TinyMPC.compile_lib(tinympc_dir)  # Compile the C code into a shared library"
   ]
  },
  {
   "attachments": {},
   "cell_type": "markdown",
   "metadata": {},
   "source": [
    "Load the generic shared/dynamic library. **You may want to change the extension of the library based on your OS -- Linux: .so, Mac: .dylib, Windows: .dll**"
   ]
  },
  {
   "cell_type": "code",
   "execution_count": null,
   "metadata": {},
   "outputs": [],
   "source": [
    "os_ext = \".so\"  # CHANGE THIS BASED ON YOUR OS\n",
    "tinympc = tinympc_dir * \"/build/src/tinympc/libtinympcShared\" * os_ext  # Path to the compiled library"
   ]
  },
  {
   "attachments": {},
   "cell_type": "markdown",
   "metadata": {},
   "source": [
    "Here we setup problem data and settings for TinyMPC"
   ]
  },
  {
   "cell_type": "code",
   "execution_count": null,
   "metadata": {},
   "outputs": [],
   "source": [
    "n = 4\n",
    "m = 1\n",
    "N = 10\n",
    "\n",
    "# convert A to array column major\n",
    "# A = Array{Float32}(cat(Anp..., dims=2))[:]\n",
    "A = cat(Anp..., dims=2)[:]\n",
    "B = cat(Bnp..., dims=2)[:]\n",
    "display(A')\n",
    "display(B')\n",
    "Q = [10.0, 1, 10, 1]\n",
    "R = [1.0]\n",
    "rho = 0.1\n",
    "\n",
    "x_min = -5. * ones(n*N)  # state constraints\n",
    "x_max = 5. * ones(n*N)  # state constraints\n",
    "u_min = -5 * ones(m*(N-1))  # force constraints\n",
    "u_max = 5 * ones(m*(N-1))  # force constraints\n",
    "\n",
    "abs_pri_tol = 1.0e-3  # absolute primal tolerance\n",
    "abs_dual_tol = 1.0e-3  # absolute dual tolerance\n",
    "max_iter = 100  # maximum number of iterations\n",
    "check_termination = 1  # whether to check termination and period"
   ]
  },
  {
   "attachments": {},
   "cell_type": "markdown",
   "metadata": {},
   "source": [
    "After define the problem, we generate the tailored code with above data. \n",
    "\n",
    "**Here we compile it for interactive Julia script but you can use it directly for your applications/systems**"
   ]
  },
  {
   "cell_type": "code",
   "execution_count": null,
   "metadata": {},
   "outputs": [],
   "source": [
    "output_dir = tinympc_julia_dir * \"/generated_code1\"  # Path to the generated code\n",
    "\n",
    "@ccall tinympc.tiny_codegen(n::Cint, m::Cint, N::Cint, A::Ptr{Float64}, B::Ptr{Float64}, Q::Ptr{Float64}, R::Ptr{Float64}, x_min::Ptr{Float64}, x_max::Ptr{Float64}, u_min::Ptr{Float64}, u_max::Ptr{Float64}, rho::Float64, abs_pri_tol::Float64, abs_dual_tol::Float64, max_iter::Cint, check_termination::Cint, 1::Cint, tinympc_dir::Ptr{UInt8}, output_dir::Ptr{UInt8})::Cint\n",
    "\n",
    "TinyMPC.compile_lib(output_dir)"
   ]
  },
  {
   "attachments": {},
   "cell_type": "markdown",
   "metadata": {},
   "source": [
    "## Interactive MPC\n",
    "\n",
    "Run the interactive MPC example which calls the generated code, use nonlinear dynamics for simulation\n",
    "\n",
    "Since this works with pointers, underlying data is persistent in each kernel session (something like deepcopy/shallowcopy or pass by reference/value). If you want to run from the original setup, you may need to change data back or \n",
    "restart kernel."
   ]
  },
  {
   "cell_type": "code",
   "execution_count": 1,
   "metadata": {},
   "outputs": [
    {
     "ename": "UndefVarError",
     "evalue": "UndefVarError: n not defined",
     "output_type": "error",
     "traceback": [
      "UndefVarError: n not defined\n",
      "\n",
      "Stacktrace:\n",
      " [1] (::var\"#9#10\")(i::Int64)\n",
      "   @ Main ./none:0\n",
      " [2] iterate\n",
      "   @ ./generator.jl:47 [inlined]\n",
      " [3] collect(itr::Base.Generator{UnitRange{Int64}, var\"#9#10\"})\n",
      "   @ Base ./array.jl:681\n",
      " [4] top-level scope\n",
      "   @ ~/SSD/Code/tinympc-julia/examples/interactive_cartpole_ext.ipynb:2"
     ]
    }
   ],
   "source": [
    "NSIM = 400\n",
    "x_all = [zeros(n) for i in 1:NSIM]\n",
    "\n",
    "tinympc = output_dir * \"/build/tinympc/libtinympcShared\" * os_ext  # Path to the compiled library\n",
    "\n",
    "x = [0.5, 0, -0.4 + pi, 0.1] # Initial state\n",
    "u = Array{Float32}(zeros(m*(N-1)))  # List of control inputs in horizon\n",
    "\n",
    "delta_x_noise = Array{Float32}(x - x0)\n",
    "\n",
    "# Use delta because MPC uses the linearized dynamics around upright position\n",
    "# Set the reference state to 0 as well as reset\n",
    "delta_xref = Array{Float32}(zeros(n*N))  # reference state\n",
    "@ccall tinympc.set_xref(delta_xref::Ptr{Float32}, 0::Cint)::Cvoid\n",
    "\n",
    "# Set the reference x to 1 at step 200\n",
    "delta_xref_new_ = [[1.0, 0, 0, 0] for i in 1:N]\n",
    "delta_xref_new = Array{Float32}(cat(delta_xref_new_..., dims=2))[:]\n",
    "\n",
    "\n",
    "for i in 1:NSIM\n",
    "    # 1. Set initial state from measurement   \n",
    "    @ccall tinympc.set_x0(delta_x_noise::Ptr{Float32}, 0::Cint)::Cvoid\n",
    "\n",
    "    # 2. Set the reference state if needed\n",
    "    # At step 200, set x = 1\n",
    "    if (i==200)\n",
    "        @ccall tinympc.set_xref(delta_xref_new::Ptr{Float32}, 0::Cint)::Cvoid\n",
    "    end\n",
    "\n",
    "    # 3. Solve the problem\n",
    "    @ccall tinympc.call_tiny_solve(0::Cint)::Cvoid\n",
    "\n",
    "    # 4. Get the control input\n",
    "    @ccall tinympc.get_u(u::Ptr{Float32}, 0::Cint)::Cvoid\n",
    "\n",
    "    # 5. Simulate the dynamics\n",
    "    x = cartpole_dynamics_rk4(x, u)\n",
    "\n",
    "    noise = randn(n) * 0.01\n",
    "    delta_x_noise = Array{Float32}(x + noise - x0)\n",
    "    x_all[i] = x\n",
    "end\n"
   ]
  },
  {
   "cell_type": "code",
   "execution_count": null,
   "metadata": {},
   "outputs": [],
   "source": [
    "# Visualize the result (may take some time)\n",
    "display(animate_cartpole(x_all, dt))"
   ]
  },
  {
   "attachments": {},
   "cell_type": "markdown",
   "metadata": {},
   "source": [
    "## Deployment\n",
    "\n",
    "Post testing the MPC procedure with the generated code, the next step involves deploying it for your specific applications/systems.\n",
    "The workflow for deployment is tailored to your specific needs, and we aim to provide clear guidance.\n",
    "\n",
    "Your `tiny_main` may look like this\n",
    "\n",
    "```C\n",
    "int main()\n",
    "{\n",
    "    int exitflag = 1;\n",
    "    TinyWorkspace* work = tiny_data_solver.work;\n",
    "    tiny_data_solver.work->Xref = tiny_MatrixNxNh::Zero();\n",
    "    tiny_data_solver.work->Uref = tiny_MatrixNuNhm1::Zero();\n",
    "    tiny_data_solver.settings->max_iter = 150;\n",
    "    tiny_data_solver.settings->en_input_bound = 1;\n",
    "    tiny_data_solver.settings->en_state_bound = 1;\n",
    "\n",
    "    tiny_VectorNx x0, x1; // current and next simulation states\n",
    "    x0 << 0.0, 0, 0.1, 0; // initial state\n",
    "\n",
    "    int i = 0;\n",
    "    for (int k = 0; k < 300; ++k)\n",
    "    {\n",
    "        printf(\"tracking error at step %2d: %.4f\\n\", k, (x0 - work->Xref.col(1)).norm());\n",
    "\n",
    "        // 1. Update measurement\n",
    "        work->x.col(0) = x0;\n",
    "\n",
    "        // 2. Update reference (if needed)\n",
    "        // you can also use C wrapper (intended for high-level languages) \n",
    "        // by including tiny_wrapper.hpp and call `set_xref(...)` function\n",
    "\n",
    "        // 3. Reset dual variables (if needed)\n",
    "        work->y = tiny_MatrixNuNhm1::Zero();\n",
    "        work->g = tiny_MatrixNxNh::Zero();\n",
    "\n",
    "        // 4. Solve MPC problem\n",
    "        exitflag = tiny_solve(&tiny_data_solver);\n",
    "\n",
    "        // if (exitflag == 0)\n",
    "        // \tprintf(\"HOORAY! Solved with no error!\\n\");\n",
    "        // else\n",
    "        // \tprintf(\"OOPS! Something went wrong!\\n\");\n",
    "        // \t// break;\n",
    "\n",
    "        std::cout << work->iter << std::endl;\n",
    "        std::cout << work->u.col(0).transpose().format(CleanFmt) << std::endl;\n",
    "\n",
    "        // 5. Simulate forward\n",
    "        // work->u.col(0) = -tiny_data_solver.cache->Kinf * (x0 - work->Xref.col(0));\n",
    "        x1 = work->Adyn * x0 + work->Bdyn * work->u.col(0);\n",
    "        x0 = x1;\n",
    "        // std::cout << x0.transpose().format(CleanFmt) << std::endl;\n",
    "    }\n",
    "}\n",
    "```"
   ]
  }
 ],
 "metadata": {
  "kernelspec": {
   "display_name": "Julia 1.6.7",
   "language": "julia",
   "name": "julia-1.6"
  },
  "language_info": {
   "file_extension": ".jl",
   "mimetype": "application/julia",
   "name": "julia",
   "version": "1.6.7"
  },
  "orig_nbformat": 4
 },
 "nbformat": 4,
 "nbformat_minor": 2
}
