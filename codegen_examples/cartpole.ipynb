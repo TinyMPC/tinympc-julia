{
 "cells": [
  {
   "cell_type": "code",
   "execution_count": 1,
   "metadata": {},
   "outputs": [
    {
     "name": "stderr",
     "output_type": "stream",
     "text": [
      "\u001b[32m\u001b[1m  Activating\u001b[22m\u001b[39m environment at `~/Git/tinympc/wrappers/TinyMPC-julia/codegen_examples/Project.toml`\n"
     ]
    }
   ],
   "source": [
    "import Pkg;\n",
    "Pkg.activate(@__DIR__);\n",
    "Pkg.instantiate()"
   ]
  },
  {
   "cell_type": "code",
   "execution_count": 2,
   "metadata": {},
   "outputs": [],
   "source": [
    "using RobotZoo:Quadrotor\n",
    "using RobotDynamics\n",
    "import ForwardDiff as FD\n",
    "using TrajOptPlots\n",
    "using BlockDiagonals\n",
    "using LinearAlgebra\n",
    "using StaticArrays\n",
    "using SparseArrays\n",
    "\n",
    "import MeshCat as mc\n",
    "using ColorTypes\n",
    "using GeometryBasics: HyperRectangle, Cylinder, Vec, Point, Mesh\n",
    "using CoordinateTransformations\n",
    "using Rotations\n",
    "\n",
    "include(joinpath(@__DIR__,\"utils/cartpole_animation.jl\"))\n",
    "\n",
    "using Plots\n",
    "# using Printf"
   ]
  },
  {
   "cell_type": "code",
   "execution_count": 3,
   "metadata": {},
   "outputs": [
    {
     "data": {
      "text/plain": [
       "rk4 (generic function with 1 method)"
      ]
     },
     "metadata": {},
     "output_type": "display_data"
    }
   ],
   "source": [
    "# Define ground truth cartpole ODE for simulation\n",
    "function dynamics(params::NamedTuple, x::Vector, u)\n",
    "    # cartpole physical parameters \n",
    "    mc, mp, l = params.mc, params.mp, params.l\n",
    "    g = 9.81\n",
    "    \n",
    "    q = x[1:2]\n",
    "    qd = x[3:4]\n",
    "\n",
    "    s = sin(q[2])\n",
    "    c = cos(q[2])\n",
    "\n",
    "    H = [mc+mp mp*l*c; mp*l*c mp*l^2]\n",
    "    C = [0 -mp*qd[2]*l*s; 0 0]\n",
    "    G = [0, mp*g*l*s]\n",
    "    B = [1, 0]\n",
    "\n",
    "    qdd = -H\\(C*qd + G - B*u[1])\n",
    "    return [qd;qdd]\n",
    "\n",
    "end\n",
    "\n",
    "function rk4(params::NamedTuple, x::Vector,u,dt::Float64)\n",
    "    k1 = dt*dynamics(params, x, u)\n",
    "    k2 = dt*dynamics(params, x + k1/2, u)\n",
    "    k3 = dt*dynamics(params, x + k2/2, u)\n",
    "    k4 = dt*dynamics(params, x + k3, u)\n",
    "    x + (1/6)*(k1 + 2*k2 + 2*k3 + k4)\n",
    "end"
   ]
  },
  {
   "cell_type": "code",
   "execution_count": 59,
   "metadata": {},
   "outputs": [
    {
     "data": {
      "text/plain": [
       "\"/generated_code\""
      ]
     },
     "metadata": {},
     "output_type": "display_data"
    }
   ],
   "source": [
    "# Define problem parameters\n",
    "params = (mc = 1.2, mp = 0.16, l = 0.55)\n",
    "\n",
    "# states and control sizes \n",
    "nx = 4 \n",
    "nu = 1 \n",
    "\n",
    "# desired x and u\n",
    "xgoal = [0, pi, 0, 0]\n",
    "ugoal = [0]\n",
    "\n",
    "# initial condition\n",
    "x0 = xgoal + [0, 0, 0, 0]\n",
    "\n",
    "# simulation size \n",
    "dt = 0.01\n",
    "tf = 10.0\n",
    "t_vec = 0:dt:tf\n",
    "Nsim = length(t_vec)+100\n",
    "Nh = 10 # horizon length\n",
    "\n",
    "# define cost matrices\n",
    "Q = diagm([1,1,0.05,1])\n",
    "R = [0.1]\n",
    "R = reshape(R,(nu,nu))\n",
    "ρ = 0.1\n",
    "\n",
    "# Determine linearized dynamics of the cartpole about its upright position\n",
    "A = FD.jacobian(dx -> rk4(params, dx, ugoal, dt), xgoal)\n",
    "B = FD.jacobian(du -> rk4(params, xgoal, du, dt), ugoal)\n",
    "\n",
    "xmin = -5 .* ones((nx,Nh))\n",
    "xmax = 5 .* ones((nx,Nh))\n",
    "umin = -5 .* ones((nu,Nh))\n",
    "umax = 5 .* ones((nu,Nh))\n",
    "\n",
    "# Solver options\n",
    "abs_pri_tol = 1e-3\n",
    "rel_pri_tol = 1e-3\n",
    "max_iter = 100\n",
    "verbose = 1\n",
    "\n",
    "tinympc_dir = \"/home/sam/Git/tinympc/TinyMPC/\"\n",
    "codegen_dir = \"/generated_code\""
   ]
  },
  {
   "cell_type": "code",
   "execution_count": 27,
   "metadata": {},
   "outputs": [
    {
     "data": {
      "text/plain": [
       "ccall_tiny_codegen! (generic function with 1 method)"
      ]
     },
     "metadata": {},
     "output_type": "display_data"
    }
   ],
   "source": [
    "# Create wrapper to generate TinyMPC code\n",
    "using Libdl\n",
    "\n",
    "# create pointer to shared library\n",
    "TinyMPC_lib = dlopen(tinympc_dir * \"/build/src/tinympc/libtinympc.so\")\n",
    "\n",
    "# create pointer to tiny_codegen function\n",
    "tiny_codegen = dlsym(TinyMPC_lib, \"tiny_codegen\")\n",
    "\n",
    "function ccall_tiny_codegen!(nx, nu, N, Adyn_data, Bdyn_data, Q_data, R_data,\n",
    "        x_min_data, x_max_data, u_min_data, u_max_data,\n",
    "        rho_value, abs_pri_tol, abs_dual_tol, \n",
    "        max_iters, check_termination, gen_wrapper,\n",
    "        tinympc_dir, output_dir)\n",
    "    # - Use doubles here since tiny_codegen computes Riccati recursion which is numerically unstable\n",
    "    # and using higher precision variables helps reduce that error.\n",
    "    # - Variables are converted to tinytype (either float or double) when copying to the data_workspace\n",
    "    # - All vectorized data is stored back into matrices in column major format!\n",
    "    # For example, the vector Bdyn_data = {1,2,3,4,5,6} with nx = 3 and nu = 2 will be stored in Eigen \n",
    "    # as a matrix of size nx x nu = [[1, 4] \n",
    "    #                                [2, 5]\n",
    "    #                                [3, 6]]\n",
    "    @ccall $tiny_codegen(nx::Int64, nu::Int64, N::Int64,\n",
    "        Adyn_data::Ptr{Cdouble}, Bdyn_data::Ptr{Cdouble}, Q_data::Ptr{Cdouble}, R_data::Ptr{Cdouble},\n",
    "        x_min_data::Ptr{Cdouble}, x_max_data::Ptr{Cdouble}, u_min_data::Ptr{Cdouble}, u_max_data::Ptr{Cdouble},\n",
    "        rho_value::Cdouble, abs_pri_tol::Cdouble, abs_dual_tol::Cdouble,\n",
    "        max_iters::Int64, check_termination::Int64, gen_wrapper::Int64,\n",
    "        tinympc_dir::Ptr{Cchar}, output_dir::Ptr{Cchar})::Cvoid\n",
    "end"
   ]
  },
  {
   "cell_type": "code",
   "execution_count": 47,
   "metadata": {},
   "outputs": [
    {
     "data": {
      "text/plain": [
       "16-element Vector{Float64}:\n",
       " 1.0\n",
       " 6.541101692727274e-5\n",
       " 0.01\n",
       " 2.18e-7\n",
       " 0.0\n",
       " 1.0010108975343306\n",
       " 0.0\n",
       " 0.01000336909090909\n",
       " 0.0\n",
       " 0.013084406770909093\n",
       " 1.0\n",
       " 6.541101692727274e-5\n",
       " 0.0\n",
       " 0.2022135591867769\n",
       " 0.0\n",
       " 1.0010108975343306"
      ]
     },
     "metadata": {},
     "output_type": "display_data"
    }
   ],
   "source": [
    "Adyn_data\n",
    "display(Array{Float64}(vec(A')))"
   ]
  },
  {
   "cell_type": "code",
   "execution_count": 48,
   "metadata": {},
   "outputs": [],
   "source": [
    "tinympc_dir = \"/home/sam/Git/tinympc/TinyMPC/\"\n",
    "output_dir = \"/generated_code\"\n",
    "\n",
    "# Adyn_data = Array{Float64}([1.0, 0.0, 0.0, 0.0, 0.01, 1.0, 0.0, 0.0, 2.2330083403300767e-5, 0.004466210576510177, 1.0002605176397052, 0.05210579005928538, 7.443037974683548e-8, 2.2330083403300767e-5, 0.01000086835443038, 1.0002605176397052])\n",
    "# Bdyn_data = Array{Float64}([7.468368562730335e-5, 0.014936765390161838, 3.79763323185387e-5, 0.007595596218554721])\n",
    "Adyn_data = Array{Float64}(vec(A'))\n",
    "Bdyn_data = Array{Float64}(vec(B'))\n",
    "\n",
    "# Q_data = Array{Float64}([10, 1, 10, 1])\n",
    "# R_data = Array{Float64}([1])\n",
    "# rho_value = 0.1;\n",
    "Q_data = Array{Float64}(Q)\n",
    "R_data = Array{Float64}(R)\n",
    "rho_value = ρ;\n",
    "\n",
    "\n",
    "# Set all min and max values to zero when generating code (doing this requires\n",
    "# setting reasonable values before running mpc using the wrapper functions for\n",
    "# the generated code)\n",
    "x_min_data = Array{Float64}(zeros(nx * Nh))\n",
    "x_max_data = Array{Float64}(zeros(nx * Nh))\n",
    "u_min_data = Array{Float64}(zeros(nu * (Nh-1)))\n",
    "u_max_data = Array{Float64}(zeros(nu * (Nh-1)))\n",
    "\n",
    "abs_pri_tol = 1e-3;\n",
    "abs_dual_tol = 1e-3;\n",
    "max_iter = 100;\n",
    "check_termination = 1; \n",
    "gen_wrapper = 1;"
   ]
  },
  {
   "cell_type": "code",
   "execution_count": 50,
   "metadata": {},
   "outputs": [],
   "source": [
    "ccall_tiny_codegen!(nx, nu, Nh, Adyn_data, Bdyn_data, Q_data, R_data,\n",
    "    x_min_data, x_max_data, u_min_data, u_max_data,\n",
    "    rho_value, abs_pri_tol, abs_dual_tol,\n",
    "    max_iter, check_termination, gen_wrapper,\n",
    "    tinympc_dir, output_dir)"
   ]
  },
  {
   "cell_type": "code",
   "execution_count": 56,
   "metadata": {},
   "outputs": [
    {
     "data": {
      "text/plain": [
       "ccall_set_umax! (generic function with 1 method)"
      ]
     },
     "metadata": {},
     "output_type": "display_data"
    }
   ],
   "source": [
    "# Create wrappers for the generated C code\n",
    "\n",
    "# create pointer to shared library\n",
    "lib = dlopen(tinympc_dir * codegen_dir * \"/build/tinympc/libtinympc.so\")\n",
    "\n",
    "# create pointers to tiny_wrapper functions\n",
    "set_x = dlsym(lib, \"set_x\")\n",
    "function ccall_set_x!(x, verbose)\n",
    "    @ccall $set_x(x::Ptr{Cfloat}, verbose::Int64)::Cvoid \n",
    "end\n",
    "\n",
    "set_x0 = dlsym(lib, \"set_x0\")\n",
    "function ccall_set_x0!(x0, verbose)\n",
    "    @ccall $set_x0(x0::Ptr{Cfloat}, verbose::Int64)::Cvoid \n",
    "end\n",
    "\n",
    "set_xref = dlsym(lib, \"set_xref\")\n",
    "function ccall_set_xref!(xref, verbose)\n",
    "    @ccall $set_xref(xref::Ptr{Cfloat}, verbose::Int64)::Cvoid \n",
    "end\n",
    "\n",
    "reset_dual_variables = dlsym(lib, \"reset_dual_variables\")\n",
    "function ccall_reset_dual_variables!(verbose)\n",
    "    @ccall $reset_dual_variables(verbose::Int64)::Cvoid\n",
    "end\n",
    "\n",
    "call_tiny_solve = dlsym(lib, \"call_tiny_solve\")\n",
    "function ccall_tiny_solve!(verbose)\n",
    "    @ccall $call_tiny_solve(verbose::Int64)::Cint\n",
    "end\n",
    "\n",
    "get_x = dlsym(lib, \"get_x\")\n",
    "function ccall_get_x!(x_soln, verbose)\n",
    "    @ccall $get_x(x_soln::Ptr{Cfloat}, verbose::Int64)::Cvoid\n",
    "end\n",
    "\n",
    "get_u = dlsym(lib, \"get_u\")\n",
    "function ccall_get_u!(u_soln, verbose)\n",
    "    @ccall $get_u(u_soln::Ptr{Cfloat}, verbose::Int64)::Cvoid\n",
    "end\n",
    "\n",
    "set_xmin = dlsym(lib, \"set_xmin\")\n",
    "function ccall_set_xmin!(xmin, verbose)\n",
    "    @ccall $set_xmin(xmin::Ptr{Cfloat}, verbose::Int64)::Cvoid\n",
    "end\n",
    "\n",
    "set_xmax = dlsym(lib, \"set_xmax\")\n",
    "function ccall_set_xmax!(xmax, verbose)\n",
    "    @ccall $set_xmax(xmax::Ptr{Cfloat}, verbose::Int64)::Cvoid\n",
    "end\n",
    "\n",
    "set_umin = dlsym(lib, \"set_umin\")\n",
    "function ccall_set_umin!(umin, verbose)\n",
    "    @ccall $set_umin(umin::Ptr{Cfloat}, verbose::Int64)::Cvoid\n",
    "end\n",
    "\n",
    "set_umax = dlsym(lib, \"set_umax\")\n",
    "function ccall_set_umax!(umax, verbose)\n",
    "    @ccall $set_umax(umax::Ptr{Cfloat}, verbose::Int64)::Cvoid\n",
    "end"
   ]
  },
  {
   "cell_type": "code",
   "execution_count": 61,
   "metadata": {},
   "outputs": [
    {
     "data": {
      "text/plain": [
       "1-element Vector{Float32}:\n",
       " 100.0"
      ]
     },
     "metadata": {},
     "output_type": "display_data"
    }
   ],
   "source": [
    "# # tests\n",
    "# @show x0\n",
    "# ccall_set_x!(x0)\n",
    "# ccall_reset_dual_variables!()\n",
    "# ccall_tiny_solve!()\n",
    "\n",
    "xgoal = Array{Float32}(xgoal)\n",
    "ccall_set_xref!(xgoal, 0)\n",
    "\n",
    "xmin = [-100,-100,-100,-100]\n",
    "xmax = [100,100,100,100]\n",
    "xmin = Array{Float32}(xmin)\n",
    "xmax = Array{Float32}(xmax)\n",
    "\n",
    "umin = [-100]\n",
    "umax = [100]\n",
    "umin = Array{Float32}(umin)\n",
    "umax = Array{Float32}(umax)\n",
    "\n",
    "\n",
    "# x_soln = Array{Float32}(x_soln)\n",
    "# ccall_print_x!(x_soln)\n",
    "# @show Array{Float32}(x_soln)"
   ]
  },
  {
   "cell_type": "code",
   "execution_count": 62,
   "metadata": {},
   "outputs": [],
   "source": [
    "# MPC loop\n",
    "\n",
    "x_hist = [zeros(nx) for i = 1:Nsim] # store x values for sim\n",
    "x_hist[1] = x0\n",
    "u_hist = [zeros(nu) for i = 1:Nsim-1]\n",
    "Nmax = 1\n",
    "for k=1:Nsim-1\n",
    "    # set initial condition and enforce float type\n",
    "    current_x = Array{Float32}(vec(x_hist[k]))\n",
    "    ccall_set_x0!(current_x, 0)\n",
    "\n",
    "    ccall_set_xref!(xgoal, 0)\n",
    "\n",
    "    ccall_set_xmin!(xmin, 0)\n",
    "    ccall_set_xmax!(xmax, 0)\n",
    "\n",
    "    ccall_set_umin!(umin, 0)\n",
    "    ccall_set_umax!(umax, 0)\n",
    "\n",
    "    # reset dual variables\n",
    "    ccall_reset_dual_variables!(0)\n",
    "\n",
    "    # solve\n",
    "    ccall_tiny_solve!(0)\n",
    "\n",
    "    # get u solution\n",
    "    u_soln = Array{Float32}(zeros((nu,Nh-1)))\n",
    "    ccall_get_u!(u_soln, 0)\n",
    "    u_hist[k] = Array{Float32}(u_soln)[:,1]\n",
    "    \n",
    "    x_hist[k+1] = rk4(params,x_hist[k],u_hist[k],dt)\n",
    "    @show Array{Float32}(x_hist[k+1])\n",
    "end"
   ]
  },
  {
   "cell_type": "code",
   "execution_count": 64,
   "metadata": {},
   "outputs": [
    {
     "data": {
      "text/html": [
       "    <div style=\"height: 500px; width: 100%; overflow-x: auto; overflow-y: hidden; resize: both\">\n",
       "    <iframe src=\"http://127.0.0.1:8705\" style=\"width: 100%; height: 100%; border: none\"></iframe>\n",
       "    </div>\n"
      ],
      "text/plain": [
       "MeshCat.DisplayedVisualizer(MeshCat.CoreVisualizer(MeshCat.SceneTrees.SceneNode(nothing, nothing, Dict{String, Vector{UInt8}}(), UInt8[0x83, 0xa7, 0x6f, 0x70, 0x74, 0x69, 0x6f, 0x6e, 0x73, 0x82  …  0x5f, 0x61, 0x6e, 0x69, 0x6d, 0x61, 0x74, 0x69, 0x6f, 0x6e], Dict{String, MeshCat.SceneTrees.SceneNode}(\"meshcat\" => MeshCat.SceneTrees.SceneNode(nothing, nothing, Dict{String, Vector{UInt8}}(), nothing, Dict{String, MeshCat.SceneTrees.SceneNode}(\"pole\" => MeshCat.SceneTrees.SceneNode(UInt8[0x83, 0xa6, 0x6f, 0x62, 0x6a, 0x65, 0x63, 0x74, 0x84, 0xaa  …  0x73, 0x68, 0x63, 0x61, 0x74, 0x2f, 0x70, 0x6f, 0x6c, 0x65], nothing, Dict{String, Vector{UInt8}}(), nothing, Dict{String, MeshCat.SceneTrees.SceneNode}()), \"b\" => MeshCat.SceneTrees.SceneNode(UInt8[0x83, 0xa6, 0x6f, 0x62, 0x6a, 0x65, 0x63, 0x74, 0x84, 0xaa  …  0x2f, 0x6d, 0x65, 0x73, 0x68, 0x63, 0x61, 0x74, 0x2f, 0x62], nothing, Dict{String, Vector{UInt8}}(), nothing, Dict{String, MeshCat.SceneTrees.SceneNode}()), \"cart\" => MeshCat.SceneTrees.SceneNode(UInt8[0x83, 0xa6, 0x6f, 0x62, 0x6a, 0x65, 0x63, 0x74, 0x84, 0xaa  …  0x73, 0x68, 0x63, 0x61, 0x74, 0x2f, 0x63, 0x61, 0x72, 0x74], nothing, Dict{String, Vector{UInt8}}(), nothing, Dict{String, MeshCat.SceneTrees.SceneNode}()), \"a\" => MeshCat.SceneTrees.SceneNode(UInt8[0x83, 0xa6, 0x6f, 0x62, 0x6a, 0x65, 0x63, 0x74, 0x84, 0xaa  …  0x2f, 0x6d, 0x65, 0x73, 0x68, 0x63, 0x61, 0x74, 0x2f, 0x61], nothing, Dict{String, Vector{UInt8}}(), nothing, Dict{String, MeshCat.SceneTrees.SceneNode}()))))), Set{Any}(), ip\"127.0.0.1\", 8705))"
      ]
     },
     "metadata": {},
     "output_type": "display_data"
    }
   ],
   "source": [
    "# Simulate\n",
    "display(animate_cartpole(x_hist[1:Nsim], dt))"
   ]
  }
 ],
 "metadata": {
  "kernelspec": {
   "display_name": "Julia 1.6.7",
   "language": "julia",
   "name": "julia-1.6"
  },
  "language_info": {
   "file_extension": ".jl",
   "mimetype": "application/julia",
   "name": "julia",
   "version": "1.6.7"
  }
 },
 "nbformat": 4,
 "nbformat_minor": 2
}
