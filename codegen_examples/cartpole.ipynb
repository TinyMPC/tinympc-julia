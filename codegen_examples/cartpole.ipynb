{
 "cells": [
  {
   "cell_type": "code",
   "execution_count": 1,
   "metadata": {},
   "outputs": [
    {
     "name": "stderr",
     "output_type": "stream",
     "text": [
      "\u001b[32m\u001b[1m  Activating\u001b[22m\u001b[39m environment at `~/Git/tinympc/wrappers/TinyMPC-julia/codegen_examples/Project.toml`\n"
     ]
    }
   ],
   "source": [
    "import Pkg;\n",
    "Pkg.activate(@__DIR__);\n",
    "Pkg.instantiate()"
   ]
  },
  {
   "cell_type": "code",
   "execution_count": 2,
   "metadata": {},
   "outputs": [],
   "source": [
    "using RobotZoo:Quadrotor\n",
    "using RobotDynamics\n",
    "import ForwardDiff as FD\n",
    "using TrajOptPlots\n",
    "using BlockDiagonals\n",
    "using LinearAlgebra\n",
    "using StaticArrays\n",
    "using SparseArrays\n",
    "\n",
    "import MeshCat as mc\n",
    "using ColorTypes\n",
    "using GeometryBasics: HyperRectangle, Cylinder, Vec, Point, Mesh\n",
    "using CoordinateTransformations\n",
    "using Rotations\n",
    "\n",
    "include(joinpath(@__DIR__,\"utils/cartpole_animation.jl\"))\n",
    "\n",
    "using Plots\n",
    "# using Printf"
   ]
  },
  {
   "cell_type": "code",
   "execution_count": 3,
   "metadata": {},
   "outputs": [
    {
     "data": {
      "text/plain": [
       "rk4 (generic function with 1 method)"
      ]
     },
     "metadata": {},
     "output_type": "display_data"
    }
   ],
   "source": [
    "# Define ground truth cartpole ODE for simulation\n",
    "function dynamics(params::NamedTuple, x::Vector, u)\n",
    "    # cartpole physical parameters \n",
    "    mc, mp, l = params.mc, params.mp, params.l\n",
    "    g = 9.81\n",
    "    \n",
    "    q = x[1:2]\n",
    "    qd = x[3:4]\n",
    "\n",
    "    s = sin(q[2])\n",
    "    c = cos(q[2])\n",
    "\n",
    "    H = [mc+mp mp*l*c; mp*l*c mp*l^2]\n",
    "    C = [0 -mp*qd[2]*l*s; 0 0]\n",
    "    G = [0, mp*g*l*s]\n",
    "    B = [1, 0]\n",
    "\n",
    "    qdd = -H\\(C*qd + G - B*u[1])\n",
    "    return [qd;qdd]\n",
    "\n",
    "end\n",
    "\n",
    "function rk4(params::NamedTuple, x::Vector,u,dt::Float64)\n",
    "    k1 = dt*dynamics(params, x, u)\n",
    "    k2 = dt*dynamics(params, x + k1/2, u)\n",
    "    k3 = dt*dynamics(params, x + k2/2, u)\n",
    "    k4 = dt*dynamics(params, x + k3, u)\n",
    "    x + (1/6)*(k1 + 2*k2 + 2*k3 + k4)\n",
    "end"
   ]
  },
  {
   "cell_type": "code",
   "execution_count": 6,
   "metadata": {},
   "outputs": [
    {
     "data": {
      "text/plain": [
       "\"/generated_code\""
      ]
     },
     "metadata": {},
     "output_type": "display_data"
    }
   ],
   "source": [
    "# Define problem parameters\n",
    "params = (mc = 1.2, mp = 0.16, l = 0.55)\n",
    "\n",
    "# states and control sizes \n",
    "nx = 4 \n",
    "nu = 1 \n",
    "\n",
    "# desired x and u\n",
    "xgoal = [0, pi, 0, 0]\n",
    "ugoal = [0]\n",
    "\n",
    "# initial condition\n",
    "x0 = xgoal + [10, 0, 0, 0]\n",
    "\n",
    "# simulation size \n",
    "dt = 0.01\n",
    "tf = 10.0 \n",
    "t_vec = 0:dt:tf\n",
    "Nsim = length(t_vec)+100\n",
    "Nh = 10 # horizon length\n",
    "\n",
    "# define cost matrices\n",
    "Q = diagm([1,1,0.05,1])\n",
    "Qf = 10*Q\n",
    "R = [0.1]\n",
    "R = reshape(R,(nu,nu))\n",
    "ρ = 0.1\n",
    "\n",
    "# Determine linearized dynamics of the cartpole about its upright position\n",
    "A = FD.jacobian(dx -> rk4(params, dx, ugoal, dt), xgoal)\n",
    "B = FD.jacobian(du -> rk4(params, xgoal, du, dt), ugoal)\n",
    "\n",
    "xmin = -5 .* ones((nx,Nh))\n",
    "xmax = 5 .* ones((nx,Nh))\n",
    "umin = -5 .* ones((nu,Nh))\n",
    "umax = 5 .* ones((nu,Nh))\n",
    "\n",
    "# Solver options\n",
    "abs_pri_tol = 1e-3\n",
    "rel_pri_tol = 1e-3\n",
    "max_iter = 100\n",
    "verbose = 1\n",
    "\n",
    "tinympc_dir = \"/home/sam/Git/tinympc/TinyMPC/\"\n",
    "output_dir = \"/generated_code\""
   ]
  },
  {
   "cell_type": "code",
   "execution_count": 37,
   "metadata": {},
   "outputs": [
    {
     "ename": "ErrorException",
     "evalue": "could not load symbol \"set_x\":\n/home/sam/Git/tinympc/TinyMPC//generated_code/build/tinympc/libtinympc.so: undefined symbol: set_x",
     "output_type": "error",
     "traceback": [
      "could not load symbol \"set_x\":\n",
      "/home/sam/Git/tinympc/TinyMPC//generated_code/build/tinympc/libtinympc.so: undefined symbol: set_x\n",
      "\n",
      "Stacktrace:\n",
      " [1] dlsym(hnd::Ptr{Nothing}, s::String; throw_error::Bool)\n",
      "   @ Base.Libc.Libdl ./libdl.jl:56\n",
      " [2] dlsym(hnd::Ptr{Nothing}, s::String)\n",
      "   @ Base.Libc.Libdl ./libdl.jl:54\n",
      " [3] top-level scope\n",
      "   @ ~/Git/tinympc/wrappers/TinyMPC-julia/codegen_examples/cartpole.ipynb:7"
     ]
    }
   ],
   "source": [
    "# Create wrappers for the C backend\n",
    "using Libdl\n",
    "# create pointer to shared library\n",
    "lib = dlopen(tinympc_dir * output_dir * \"/build/tinympc/libtinympc.so\")\n",
    "\n",
    "# create pointers to tiny_wrapper functions\n",
    "set_x = dlsym(lib, \"set_x\")\n",
    "function ccall_set_x!(x, verbose)\n",
    "    @ccall $set_x(x::Ptr{Cfloat}, verbose::Int64)::Cvoid \n",
    "end\n",
    "\n",
    "set_x0 = dlsym(lib, \"set_x0\")\n",
    "function ccall_set_x!(x0, verbose)\n",
    "    @ccall $set_x0(x0::Ptr{Cfloat}, verbose::Int64)::Cvoid \n",
    "end\n",
    "\n",
    "set_xref = dlsym(lib, \"set_xref\")\n",
    "function ccall_set_xref!(xref, verbose)\n",
    "    @ccall $set_xref(xref::Ptr{Cfloat}, verbose::Int64)::Cvoid \n",
    "end\n",
    "\n",
    "reset_dual_variables = dlsym(lib, \"reset_dual_variables\")\n",
    "function ccall_reset_dual_variables!(verbose)\n",
    "    @ccall $reset_dual_variables(verbose::Int64)::Cvoid\n",
    "end\n",
    "\n",
    "call_tiny_solve = dlsym(lib, \"call_tiny_solve\")\n",
    "function ccall_tiny_solve!()\n",
    "    @ccall $call_tiny_solve()::Cint\n",
    "end\n",
    "\n",
    "get_x = dlsym(lib, \"get_x\")\n",
    "function ccall_get_x!(x_soln, verbose)\n",
    "    @ccall $get_x(x_soln::Ptr{Cfloat}, verbose::Int64)::Cvoid\n",
    "end\n",
    "\n",
    "get_u = dlsym(lib, \"get_u\")\n",
    "function ccall_get_u!(u_soln, verbose)\n",
    "    @ccall $get_u(u_soln::Ptr{Cfloat}, verbose::Int64)::Cvoid\n",
    "end\n",
    "\n",
    "set_xmin = dlsym(lib, \"set_xmin\")\n",
    "function ccall_set_xmin!(xmin, verbose)\n",
    "    @ccall $set_xmin(xmin::Ptr{Cfloat}, verbose::Int64)::Cvoid\n",
    "end\n",
    "\n",
    "set_xmax = dlsym(lib, \"set_xmax\")\n",
    "function ccall_set_xmax!(xmax, verbose)\n",
    "    @ccall $set_xmax(xmax::Ptr{Cfloat}, verbose::Int64)::Cvoid\n",
    "end\n",
    "\n",
    "set_umin = dlsym(lib, \"set_umin\")\n",
    "function ccall_set_umin!(umin, verbose)\n",
    "    @ccall $set_umin(umin::Ptr{Cfloat}, verbose::Int64)::Cvoid\n",
    "end\n",
    "\n",
    "set_umax = dlsym(lib, \"set_umax\")\n",
    "function ccall_set_umax!(umax, verbose)\n",
    "    @ccall $set_umax(umax::Ptr{Cfloat}, verbose::Int64)::Cvoid\n",
    "end"
   ]
  },
  {
   "cell_type": "code",
   "execution_count": 32,
   "metadata": {},
   "outputs": [
    {
     "data": {
      "text/plain": [
       "1-element Vector{Float32}:\n",
       " 100.0"
      ]
     },
     "metadata": {},
     "output_type": "display_data"
    }
   ],
   "source": [
    "# # tests\n",
    "# @show x0\n",
    "# ccall_set_x!(x0)\n",
    "# ccall_reset_dual_variables!()\n",
    "# ccall_tiny_solve!()\n",
    "\n",
    "xgoal = Array{Float32}(xgoal)\n",
    "ccall_set_xref!(xgoal, 0)\n",
    "\n",
    "xmin = [-100,-100,-100,-100]\n",
    "xmax = [100,100,100,100]\n",
    "xmin = Array{Float32}(xmin)\n",
    "xmax = Array{Float32}(xmax)\n",
    "\n",
    "umin = [-100]\n",
    "umax = [100]\n",
    "umin = Array{Float32}(umin)\n",
    "umax = Array{Float32}(umax)\n",
    "\n",
    "\n",
    "# x_soln = Array{Float32}(x_soln)\n",
    "# ccall_print_x!(x_soln)\n",
    "# @show Array{Float32}(x_soln)"
   ]
  },
  {
   "cell_type": "code",
   "execution_count": 40,
   "metadata": {},
   "outputs": [
    {
     "name": "stdout",
     "output_type": "stream",
     "text": [
      "u_soln:  nan\n",
      "u_soln:  nan\n",
      "u_soln:  nan\n",
      "u_soln:  nan\n",
      "u_soln:  nan\n",
      "u_soln:  nan\n",
      "u_soln:  nan\n",
      "u_soln:  nan\n",
      "u_soln:  nan\n",
      "tiny solve finished\n"
     ]
    },
    {
     "ename": "DomainError",
     "evalue": "DomainError with Inf:\nsin(x) is only defined for finite x.",
     "output_type": "error",
     "traceback": [
      "DomainError with Inf:\n",
      "sin(x) is only defined for finite x.\n",
      "\n",
      "Stacktrace:\n",
      " [1] sin_domain_error(x::Float32)\n",
      "   @ Base.Math ./special/trig.jl:28\n",
      " [2] sin(x::Float32)\n",
      "   @ Base.Math ./special/trig.jl:39\n",
      " [3] dynamics(params::NamedTuple{(:mc, :mp, :l), Tuple{Float64, Float64, Float64}}, x::Vector{Float32}, u::Float32)\n",
      "   @ Main ~/Git/tinympc/wrappers/TinyMPC-julia/codegen_examples/cartpole.ipynb:10\n",
      " [4] rk4(params::NamedTuple{(:mc, :mp, :l), Tuple{Float64, Float64, Float64}}, x::Vector{Float32}, u::Float32, dt::Float64)\n",
      "   @ Main ~/Git/tinympc/wrappers/TinyMPC-julia/codegen_examples/cartpole.ipynb:24\n",
      " [5] top-level scope\n",
      "   @ ~/Git/tinympc/wrappers/TinyMPC-julia/codegen_examples/cartpole.ipynb:34"
     ]
    }
   ],
   "source": [
    "# MPC loop\n",
    "\n",
    "x_hist = [Array{Float32}(zeros(nx)) for i = 1:Nsim] # store x values for sim\n",
    "Nmax = 1\n",
    "for k=1:Nsim\n",
    "    # set initial condition and enforce float type\n",
    "    x0 = vec(x0)\n",
    "    x0 = Array{Float32}(x0)\n",
    "    x_hist[k] = 1*x0\n",
    "    ccall_set_x!(x0, 0)\n",
    "    x0 = Array{Float32}(x0)\n",
    "\n",
    "    ccall_set_xref!(xgoal, 0)\n",
    "\n",
    "    ccall_set_xmin!(xmin, 0)\n",
    "    ccall_set_xmax!(xmax, 0)\n",
    "\n",
    "    ccall_set_umin!(umin, 0)\n",
    "    ccall_set_umax!(umax, 0)\n",
    "\n",
    "    # reset dual variables\n",
    "    ccall_reset_dual_variables!(0)\n",
    "\n",
    "    # solve\n",
    "    exitflag = ccall_tiny_solve!()\n",
    "\n",
    "    # get u solution\n",
    "    u_soln = zeros((nu,Nh-1))\n",
    "    u_soln = Array{Float32}(u_soln)\n",
    "    ccall_get_u!(u_soln, 1)\n",
    "    u_soln = Array{Float32}(u_soln)\n",
    "    uk = Array{Float32}(u_soln)[1,1]\n",
    "    \n",
    "    xk = rk4(params,x0,uk,dt)\n",
    "    x0 = 1*xk\n",
    "    @show Array{Float32}(xk)\n",
    "end"
   ]
  },
  {
   "cell_type": "code",
   "execution_count": 36,
   "metadata": {},
   "outputs": [
    {
     "name": "stderr",
     "output_type": "stream",
     "text": [
      "┌ Info: MeshCat server started. You can open the visualizer by visiting the following URL in your browser:\n",
      "│ http://127.0.0.1:8700\n",
      "└ @ MeshCat /home/sam/.julia/packages/MeshCat/GlCMx/src/visualizer.jl:73\n"
     ]
    },
    {
     "ename": "DomainError",
     "evalue": "DomainError with Inf:\nsin(x) is only defined for finite x.",
     "output_type": "error",
     "traceback": [
      "DomainError with Inf:\n",
      "sin(x) is only defined for finite x.\n",
      "\n",
      "Stacktrace:\n",
      "  [1] call\n",
      "    @ ~/.julia/packages/Cassette/6X8m9/src/context.jl:456 [inlined]\n",
      "  [2] fallback\n",
      "    @ ~/.julia/packages/Cassette/6X8m9/src/context.jl:454 [inlined]\n",
      "  [3] overdub\n",
      "    @ ~/.julia/packages/Cassette/6X8m9/src/context.jl:280 [inlined]\n",
      "  [4] sin_domain_error(::Float32)\n",
      "    @ ./special/trig.jl:28 [inlined]\n",
      "  [5] overdub\n",
      "    @ ./special/trig.jl:28 [inlined]\n",
      "  [6] overdub(::Cassette.Context{nametype(AnimationCtx), Tuple{MeshCat.Animation, Int64}, Nothing, Cassette.var\"##PassType#285\", Nothing, Nothing}, ::typeof(Base.Math.sin_domain_error), ::Float32)\n",
      "    @ Cassette ~/.julia/packages/Cassette/6X8m9/src/overdub.jl:0\n",
      "  [7] overdub\n",
      "    @ ./special/trig.jl:39 [inlined]\n",
      "  [8] overdub(::Cassette.Context{nametype(AnimationCtx), Tuple{MeshCat.Animation, Int64}, Nothing, Cassette.var\"##PassType#285\", Nothing, Nothing}, ::typeof(sin), ::Float32)\n",
      "    @ Cassette ~/.julia/packages/Cassette/6X8m9/src/overdub.jl:0\n",
      "  [9] overdub\n",
      "    @ ~/Git/tinympc/wrappers/TinyMPC-julia/codegen_examples/utils/cartpole_animation.jl:18 [inlined]\n",
      " [10] overdub(::Cassette.Context{nametype(AnimationCtx), Tuple{MeshCat.Animation, Int64}, Nothing, Cassette.var\"##PassType#285\", Nothing, Nothing}, ::typeof(update_cartpole_transform!), ::MeshCat.Visualizer, ::Vector{Float32})\n",
      "    @ Cassette ~/.julia/packages/Cassette/6X8m9/src/overdub.jl:0\n",
      " [11] (::var\"\n",
      "    @ ~/Git/tinympc/wrappers/TinyMPC-julia/codegen_examples/utils/cartpole_animation.jl:30 [inlined]\n",
      " [12] overdub\n",
      "    @ ~/Git/tinympc/wrappers/TinyMPC-julia/codegen_examples/utils/cartpole_animation.jl:30 [inlined]\n",
      " [13] atframe\n",
      "    @ ~/.julia/packages/MeshCat/GlCMx/src/atframe.jl:97 [inlined]\n",
      " [14] animate_cartpole(X::Vector{Vector{Float32}}, dt::Float64)\n",
      "    @ Main ~/Git/tinympc/wrappers/TinyMPC-julia/codegen_examples/utils/cartpole_animation.jl:29\n",
      " [15] top-level scope\n",
      "    @ ~/Git/tinympc/wrappers/TinyMPC-julia/codegen_examples/cartpole.ipynb:2"
     ]
    }
   ],
   "source": [
    "# Simulate\n",
    "display(animate_cartpole(x_hist[1:Nsim], dt))"
   ]
  }
 ],
 "metadata": {
  "kernelspec": {
   "display_name": "Julia 1.6.7",
   "language": "julia",
   "name": "julia-1.6"
  },
  "language_info": {
   "file_extension": ".jl",
   "mimetype": "application/julia",
   "name": "julia",
   "version": "1.6.7"
  }
 },
 "nbformat": 4,
 "nbformat_minor": 2
}
