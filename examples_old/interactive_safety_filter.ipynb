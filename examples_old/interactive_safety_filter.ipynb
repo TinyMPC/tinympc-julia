{
 "cells": [
  {
   "attachments": {},
   "cell_type": "markdown",
   "metadata": {},
   "source": [
    "# Python Interactive Example: TinyMPC-Based Predictive Safety Filter on Double Integrator\n",
    "\n",
    "In this demonstration, we showcase an interactive Python workflow using TinyMPC for safety filter. You can generate C++ code and engage with it seamlessly within the Python environment.\n",
    "\n",
    "If any issues arise, restart the kernel."
   ]
  },
  {
   "attachments": {},
   "cell_type": "markdown",
   "metadata": {},
   "source": [
    "Load necessary packages, make sure to install `tinympc` ([README.md](../README.md))"
   ]
  },
  {
   "cell_type": "code",
   "execution_count": null,
   "metadata": {},
   "outputs": [],
   "source": [
    "import Pkg;\n",
    "Pkg.activate(@__DIR__);\n",
    "Pkg.instantiate()\n",
    "\n",
    "using Libdl\n",
    "using Random\n",
    "using PyPlot\n",
    "using LinearAlgebra\n",
    "\n",
    "include(joinpath(@__DIR__,\"../tinympc/TinyMPC.jl\"))\n",
    "using .TinyMPC\n",
    "include(\"visualization.jl\") # for visualization"
   ]
  },
  {
   "attachments": {},
   "cell_type": "markdown",
   "metadata": {},
   "source": [
    "## Double Integrator System"
   ]
  },
  {
   "cell_type": "code",
   "execution_count": 222,
   "metadata": {},
   "outputs": [
    {
     "data": {
      "text/plain": [
       "3×200 Matrix{Float64}:\n",
       " 0.0  0.0  0.0  0.0  0.0  0.0  0.0  0.0  …  0.0  0.0  0.0  0.0  0.0  0.0  0.0\n",
       " 0.0  0.0  0.0  0.0  0.0  0.0  0.0  0.0     0.0  0.0  0.0  0.0  0.0  0.0  0.0\n",
       " 0.0  0.0  0.0  0.0  0.0  0.0  0.0  0.0     0.0  0.0  0.0  0.0  0.0  0.0  0.0"
      ]
     },
     "metadata": {},
     "output_type": "display_data"
    }
   ],
   "source": [
    "NSTATES = 6\n",
    "NINPUTS = 3\n",
    "NHORIZON = 30\n",
    "NTOTAL = 201\n",
    "\n",
    "# Double-integrator dynamics\n",
    "h = 0.05 #20 Hz\n",
    "temp_n = Int(NSTATES/2)\n",
    "Adyn = [I(temp_n) h*I(temp_n); zeros(temp_n,temp_n) I(temp_n)]\n",
    "Bdyn = [0.5*h*h*I(temp_n); h*I(temp_n)];\n",
    "\n",
    "t = h*(0:NTOTAL-1)\n",
    "Xref = zeros(NSTATES, NTOTAL)\n",
    "for k = 1:NTOTAL\n",
    "  Xref[1:3,k] = sin(1*t[k])*2*ones(temp_n)\n",
    "end\n",
    "Uref = repeat([0; 0; 0.0], 1, NTOTAL-1) \n"
   ]
  },
  {
   "attachments": {},
   "cell_type": "markdown",
   "metadata": {},
   "source": [
    "## Code Generation\n",
    "\n",
    "Now, let's define the class and compile original TinyMPC code to get a generic shared/dynamic library\n",
    "\n",
    "**PLEASE CHANGE `tinympc_julia_dir` TO YOUR ABSOLUTE PATH**"
   ]
  },
  {
   "cell_type": "code",
   "execution_count": 223,
   "metadata": {},
   "outputs": [
    {
     "name": "stdout",
     "output_type": "stream",
     "text": [
      "Compiling library to /home/khai/SSD/Code/tinympc-julia/tinympc/TinyMPC\n",
      "-- Configuring done\n"
     ]
    },
    {
     "name": "stdout",
     "output_type": "stream",
     "text": [
      "-- Generating done\n",
      "-- Build files have been written to: /home/khai/SSD/Code/tinympc-julia/tinympc/TinyMPC/build\n"
     ]
    },
    {
     "name": "stdout",
     "output_type": "stream",
     "text": [
      "Consolidate compiler generated dependencies of target tinympcShared\n",
      "[ 18%] Built target tinympcShared\n"
     ]
    },
    {
     "name": "stdout",
     "output_type": "stream",
     "text": [
      "Consolidate compiler generated dependencies of target tinympc\n",
      "[ 37%] Built target tinympc\n"
     ]
    },
    {
     "name": "stdout",
     "output_type": "stream",
     "text": [
      "Consolidate compiler generated dependencies of target codegen_cartpole\n",
      "[ 50%] Built target codegen_cartpole\n"
     ]
    },
    {
     "name": "stdout",
     "output_type": "stream",
     "text": [
      "Consolidate compiler generated dependencies of target codegen_random\n",
      "[ 62%] Built target codegen_random\n"
     ]
    },
    {
     "name": "stdout",
     "output_type": "stream",
     "text": [
      "Consolidate compiler generated dependencies of target quadrotor_hovering\n",
      "[ 75%] Built target quadrotor_hovering\n"
     ]
    },
    {
     "name": "stdout",
     "output_type": "stream",
     "text": [
      "Consolidate compiler generated dependencies of target quadrotor_tracking\n",
      "[ 87%] Built target quadrotor_tracking\n",
      "Consolidate compiler generated dependencies of target test1\n",
      "[100%] Built target test1\n"
     ]
    },
    {
     "data": {
      "text/plain": [
       "true"
      ]
     },
     "metadata": {},
     "output_type": "display_data"
    }
   ],
   "source": [
    "tinympc_julia_dir = \"/home/khai/SSD/Code/tinympc-julia\"  # Your absolute path to the tinympc-Julia directory, you need to change this\n",
    "tinympc_dir = tinympc_julia_dir * \"/tinympc/TinyMPC\"  # Path to the TinyMPC directory (C code)\n",
    "TinyMPC.compile_lib(tinympc_dir)  # Compile the C code into a shared library"
   ]
  },
  {
   "attachments": {},
   "cell_type": "markdown",
   "metadata": {},
   "source": [
    "Load the generic shared/dynamic library. **You may want to change the extension of the library based on your OS -- Linux: .so, Mac: .dylib, Windows: .dll**"
   ]
  },
  {
   "cell_type": "code",
   "execution_count": 224,
   "metadata": {},
   "outputs": [
    {
     "data": {
      "text/plain": [
       "\"/home/khai/SSD/Code/tinympc-julia/tinympc/TinyMPC/build/src/tinympc/libtinympcShared.so\""
      ]
     },
     "metadata": {},
     "output_type": "display_data"
    }
   ],
   "source": [
    "os_ext = \".so\"  # CHANGE THIS BASED ON YOUR OS\n",
    "tinympc = tinympc_dir * \"/build/src/tinympc/libtinympcShared\" * os_ext  # Path to the compiled library"
   ]
  },
  {
   "attachments": {},
   "cell_type": "markdown",
   "metadata": {},
   "source": [
    "Here we setup problem data and settings for TinyMPC"
   ]
  },
  {
   "cell_type": "code",
   "execution_count": 225,
   "metadata": {},
   "outputs": [
    {
     "data": {
      "text/plain": [
       "1×36 adjoint(::Vector{Float64}) with eltype Float64:\n",
       " 1.0  0.0  0.0  0.0  0.0  0.0  0.0  …  0.0  0.0  0.0  0.05  0.0  0.0  1.0"
      ]
     },
     "metadata": {},
     "output_type": "display_data"
    },
    {
     "data": {
      "text/plain": [
       "1×18 adjoint(::Vector{Float64}) with eltype Float64:\n",
       " 0.00125  0.0  0.0  0.05  0.0  0.0  0.0  …  0.0  0.0  0.00125  0.0  0.0  0.05"
      ]
     },
     "metadata": {},
     "output_type": "display_data"
    },
    {
     "data": {
      "text/plain": [
       "1"
      ]
     },
     "metadata": {},
     "output_type": "display_data"
    }
   ],
   "source": [
    "# convert A to array column major\n",
    "Acol = cat(Adyn..., dims=2)[:]\n",
    "Bcol = cat(Bdyn..., dims=2)[:]\n",
    "display(Acol')\n",
    "display(Bcol')\n",
    "Q = zeros(NSTATES) # dont need to penalize the state in safety fitler\n",
    "R = 1e2*ones(NINPUTS)\n",
    "rho = 5e2\n",
    "\n",
    "###### Bounds\n",
    "xmin = -1. * ones(NSTATES*NHORIZON)  # state constraints\n",
    "xmax = 1. * ones(NSTATES*NHORIZON)  # state constraints\n",
    "umin = -3 * ones(NINPUTS*(NHORIZON-1))  # force constraints\n",
    "umax = 3 * ones(NINPUTS*(NHORIZON-1))  # force constraints\n",
    "\n",
    "##### Settings\n",
    "abs_pri_tol = 1e-2\n",
    "abs_dua_tol = 1e-2\n",
    "max_iter = 50\n",
    "check_termination = 1"
   ]
  },
  {
   "attachments": {},
   "cell_type": "markdown",
   "metadata": {},
   "source": [
    "After define the problem, we generate the tailored code with above data. \n",
    "\n",
    "**Here we compile it for interactive Julia script but you can use it directly for your applications/systems**\n",
    "\n",
    "Since Julia does JIT compilation, we cannot wrap C functions now -- we haven't generated the C code yet!. Therefore, we need to call the C function using `ccall` directly, which doesn't look nice :("
   ]
  },
  {
   "cell_type": "code",
   "execution_count": 226,
   "metadata": {},
   "outputs": [
    {
     "name": "stdout",
     "output_type": "stream",
     "text": [
      "A = [   1,    0,    0, 0.05,    0,    0]\n",
      "[   0,    1,    0,    0, 0.05,    0]\n",
      "[   0,    0,    1,    0,    0, 0.05]\n",
      "[   0,    0,    0,    1,    0,    0]\n",
      "[   0,    0,    0,    0,    1,    0]\n",
      "[   0,    0,    0,    0,    0,    1]\n",
      "B = [0.00125,       0,       0]\n",
      "[      0, 0.00125,       0]\n",
      "[      0,       0, 0.00125]\n",
      "[   0.05,       0,       0]\n",
      "[      0,    0.05,       0]\n",
      "[      0,       0,    0.05]\n",
      "Q = [500,   0,   0,   0,   0,   0]\n",
      "[  0, 500,   0,   0,   0,   0]\n",
      "[  0,   0, 500,   0,   0,   0]\n",
      "[  0,   0,   0, 500,   0,   0]\n",
      "[  0,   0,   0,   0, 500,   0]\n",
      "[  0,   0,   0,   0,   0, 500]\n",
      "R = [600,   0,   0]\n",
      "[  0, 600,   0]\n",
      "[  0,   0, 600]\n",
      "rho = 500\n",
      "Kinf converged after 134 iterations\n",
      "Precomputing finished\n",
      "Kinf = [0.8763,      0,      0,  1.588,      0,      0]\n",
      "[     0, 0.8763,      0,      0,  1.588,      0]\n",
      "[     0,      0, 0.8763,      0,      0,  1.588]\n",
      "Pinf = [1.812e+04,         0,         0, 1.096e+04,         0,         0]\n",
      "[        0, 1.812e+04,         0,         0, 1.096e+04,         0]\n",
      "[        0,         0, 1.812e+04,         0,         0, 1.096e+04]\n",
      "[1.096e+04,         0,         0, 1.983e+04,         0,         0]\n",
      "[        0, 1.096e+04,         0,         0, 1.983e+04,         0]\n",
      "[        0,         0, 1.096e+04,         0,         0, 1.983e+04]\n",
      "Quu_inv = [0.001536,        0,        0]\n",
      "[       0, 0.001536,        0]\n",
      "[       0,        0, 0.001536]\n",
      "AmBKt = [  0.9989,        0,        0, -0.04382,        0,        0]\n",
      "[       0,   0.9989,        0,        0, -0.04382,        0]\n",
      "[       0,        0,   0.9989,        0,        0, -0.04382]\n",
      "[ 0.04802,        0,        0,   0.9206,        0,        0]\n",
      "[       0,  0.04802,        0,        0,   0.9206,        0]\n",
      "[       0,        0,  0.04802,        0,        0,   0.9206]\n",
      "Data generated in /home/khai/SSD/Code/tinympc-julia/generated_code1/src/tiny_data_workspace.cpp\n",
      "Global options generated in /home/khai/SSD/Code/tinympc-julia/generated_code1/tinympc/glob_opts.hpp\n",
      "Example tinympc main generated in /home/khai/SSD/Code/tinympc-julia/generated_code1/src/tiny_main.cpp\n",
      "Data header generated in /home/khai/SSD/Code/tinympc-julia/generated_code1/tinympc/tiny_data_workspace.hpp\n",
      "Content of include folder copied from /home/khai/SSD/Code/tinympc-julia/tinympc/TinyMPC/include to /home/khai/SSD/Code/tinympc-julia/generated_code1/include\n",
      "Content of /home/khai/SSD/Code/tinympc-julia/tinympc/TinyMPC/src/tinympc/admm.hpp copied to /home/khai/SSD/Code/tinympc-julia/generated_code1/tinympc/admm.hpp\n",
      "Content of /home/khai/SSD/Code/tinympc-julia/tinympc/TinyMPC/src/tinympc/admm.cpp copied to /home/khai/SSD/Code/tinympc-julia/generated_code1/tinympc/admm.cpp\n",
      "Content of /home/khai/SSD/Code/tinympc-julia/tinympc/TinyMPC/src/tinympc/types.hpp copied to /home/khai/SSD/Code/tinympc-julia/generated_code1/tinympc/types.hpp\n",
      "Content of /home/khai/SSD/Code/tinympc-julia/tinympc/TinyMPC/src/tinympc/tiny_wrapper.hpp copied to /home/khai/SSD/Code/tinympc-julia/generated_code1/tinympc/tiny_wrapper.hpp\n",
      "Content of /home/khai/SSD/Code/tinympc-julia/tinympc/TinyMPC/src/tinympc/tiny_wrapper.cpp copied to /home/khai/SSD/Code/tinympc-julia/generated_code1/tinympc/tiny_wrapper.cpp\n"
     ]
    },
    {
     "data": {
      "text/plain": [
       "1"
      ]
     },
     "metadata": {},
     "output_type": "display_data"
    }
   ],
   "source": [
    "output_dir = tinympc_julia_dir * \"/generated_code1\"  # Path to the generated code\n",
    "\n",
    "@ccall tinympc.tiny_codegen(NSTATES::Cint, NINPUTS::Cint, NHORIZON::Cint, Acol::Ptr{Float64}, Bcol::Ptr{Float64}, Q::Ptr{Float64}, R::Ptr{Float64}, xmin::Ptr{Float64}, xmax::Ptr{Float64}, umin::Ptr{Float64}, umax::Ptr{Float64}, rho::Float64, abs_pri_tol::Float64, abs_dua_tol::Float64, max_iter::Cint, check_termination::Cint, 1::Cint, tinympc_dir::Ptr{UInt8}, output_dir::Ptr{UInt8})::Cint\n",
    "\n",
    "TinyMPC.compile_lib(output_dir)"
   ]
  },
  {
   "attachments": {},
   "cell_type": "markdown",
   "metadata": {},
   "source": [
    "## Interactive Program (WIP)\n",
    "\n",
    "Run the interactive example which calls the generated code.\n",
    "\n",
    "Since this works with pointers, underlying data is persistent in each kernel session (something like deepcopy/shallowcopy or pass by reference/value). If you want to run from the original setup, you may need to change data back or \n",
    "restart kernel."
   ]
  },
  {
   "attachments": {},
   "cell_type": "markdown",
   "metadata": {},
   "source": [
    "### Nominal Controller"
   ]
  },
  {
   "cell_type": "code",
   "execution_count": 228,
   "metadata": {},
   "outputs": [
    {
     "data": {
      "text/plain": [
       "rollout! (generic function with 1 method)"
      ]
     },
     "metadata": {},
     "output_type": "display_data"
    }
   ],
   "source": [
    "Knom = [4.77182  0.0      0.0      5.68453  0.0      0.0;\n",
    "        0.0      4.77182  0.0      0.0      5.68453  0.0;\n",
    "        0.0      0.0      4.77182  0.0      0.0      5.68453]  # nominal gain\n",
    "\n",
    "# rollout the closed-loop system to get future control inputs\n",
    "function rollout!(Upred, x, Xref_hrz, integral)    \n",
    "    xn = x*1\n",
    "    for k = 1:NHORIZON-1\n",
    "        integral += (Xref_hrz[1:3,k] - xn[1:3])\n",
    "        # Upred[:,k] = -1*Knom*(xn - Xref_hrz[:,k]) + 20.0*integral\n",
    "        Upred[:,k] = [-4.0; 4.0; -4.0]  # constant control input\n",
    "        xn = Adyn*xn + Bdyn*Upred[:,k]\n",
    "    end\n",
    "end"
   ]
  },
  {
   "attachments": {},
   "cell_type": "markdown",
   "metadata": {},
   "source": [
    "### TinyMPC-based Safety Filter"
   ]
  },
  {
   "cell_type": "code",
   "execution_count": 229,
   "metadata": {},
   "outputs": [
    {
     "data": {
      "text/plain": [
       "3×29 Matrix{Float64}:\n",
       " -4.0  -4.0  -4.0  -4.0  -4.0  -4.0  …  -4.0  -4.0  -4.0  -4.0  -4.0  -4.0\n",
       "  4.0   4.0   4.0   4.0   4.0   4.0      4.0   4.0   4.0   4.0   4.0   4.0\n",
       " -4.0  -4.0  -4.0  -4.0  -4.0  -4.0     -4.0  -4.0  -4.0  -4.0  -4.0  -4.0"
      ]
     },
     "metadata": {},
     "output_type": "display_data"
    },
    {
     "name": "stdout",
     "output_type": "stream",
     "text": [
      "set_x0 result:  0.000000\n",
      "set_x0 result:  0.000000\n",
      "set_x0 result:  0.000000\n",
      "set_x0 result:  0.000000\n",
      "set_x0 result:  0.000000\n",
      "set_x0 result:  0.000000\n",
      "set_xref result:  -4.000000\n",
      "set_xref result:  4.000000\n",
      "set_xref result:  -4.000000\n",
      "set_xref result:  -4.000000\n",
      "set_xref result:  4.000000\n",
      "set_xref result:  -4.000000\n",
      "set_xref result:  -4.000000\n",
      "set_xref result:  4.000000\n",
      "set_xref result:  -4.000000\n",
      "set_xref result:  -4.000000\n",
      "set_xref result:  4.000000\n",
      "set_xref result:  -4.000000\n",
      "set_xref result:  -4.000000\n",
      "set_xref result:  4.000000\n",
      "set_xref result:  -4.000000\n",
      "set_xref result:  -4.000000\n",
      "set_xref result:  4.000000\n",
      "set_xref result:  -4.000000\n",
      "set_xref result:  -4.000000\n",
      "set_xref result:  4.000000\n",
      "set_xref result:  -4.000000\n",
      "set_xref result:  -4.000000\n",
      "set_xref result:  4.000000\n",
      "set_xref result:  -4.000000\n",
      "set_xref result:  -4.000000\n",
      "set_xref result:  4.000000\n",
      "set_xref result:  -4.000000\n",
      "set_xref result:  -4.000000\n",
      "set_xref result:  4.000000\n",
      "set_xref result:  -4.000000\n",
      "set_xref result:  -4.000000\n",
      "set_xref result:  4.000000\n",
      "set_xref result:  -4.000000\n",
      "set_xref result:  -4.000000\n",
      "set_xref result:  4.000000\n",
      "set_xref result:  -4.000000\n",
      "set_xref result:  -4.000000\n",
      "set_xref result:  4.000000\n",
      "set_xref result:  -4.000000\n",
      "set_xref result:  -4.000000\n",
      "set_xref result:  4.000000\n",
      "set_xref result:  -4.000000\n",
      "set_xref result:  -4.000000\n",
      "set_xref result:  4.000000\n",
      "set_xref result:  -4.000000\n",
      "set_xref result:  -4.000000\n",
      "set_xref result:  4.000000\n",
      "set_xref result:  -4.000000\n",
      "set_xref result:  -4.000000\n",
      "set_xref result:  4.000000\n",
      "set_xref result:  -4.000000\n",
      "set_xref result:  -4.000000\n",
      "set_xref result:  4.000000\n",
      "set_xref result:  -4.000000\n",
      "set_xref result:  -4.000000\n",
      "set_xref result:  4.000000\n",
      "set_xref result:  -4.000000\n",
      "set_xref result:  -4.000000\n",
      "set_xref result:  4.000000\n",
      "set_xref result:  -4.000000\n",
      "set_xref result:  -4.000000\n",
      "set_xref result:  4.000000\n",
      "set_xref result:  -4.000000\n",
      "set_xref result:  -4.000000\n",
      "set_xref result:  4.000000\n",
      "set_xref result:  -4.000000\n",
      "set_xref result:  -4.000000\n",
      "set_xref result:  4.000000\n",
      "set_xref result:  -4.000000\n",
      "set_xref result:  -4.000000\n",
      "set_xref result:  4.000000\n",
      "set_xref result:  -4.000000\n",
      "set_xref result:  -4.000000\n",
      "set_xref result:  4.000000\n",
      "set_xref result:  -4.000000\n",
      "set_xref result:  -4.000000\n",
      "set_xref result:  4.000000\n",
      "set_xref result:  -4.000000\n",
      "set_xref result:  -4.000000\n",
      "set_xref result:  4.000000\n",
      "set_xref result:  -4.000000\n",
      "set_xref result:  -4.000000\n",
      "set_xref result:  4.000000\n",
      "set_xref result:  -4.000000\n",
      "set_xref result:  -4.000000\n",
      "set_xref result:  4.000000\n",
      "set_xref result:  -4.000000\n",
      "u_soln:  -nan\n",
      "u_soln:  -nan\n",
      "u_soln:  -nan\n",
      "u_soln:  nan\n",
      "u_soln:  nan\n",
      "u_soln:  nan\n",
      "u_soln:  -nan\n",
      "u_soln:  -nan\n",
      "u_soln:  -nan\n",
      "u_soln:  nan\n",
      "u_soln:  nan\n",
      "u_soln:  nan\n",
      "u_soln:  -nan\n",
      "u_soln:  -nan\n",
      "u_soln:  -nan\n",
      "u_soln:  nan\n",
      "u_soln:  nan\n",
      "u_soln:  nan\n",
      "u_soln:  -nan\n",
      "u_soln:  -nan\n",
      "u_soln:  -nan\n",
      "u_soln:  nan\n",
      "u_soln:  nan\n",
      "u_soln:  nan\n",
      "u_soln:  -nan\n",
      "u_soln:  -nan\n",
      "u_soln:  -nan\n",
      "u_soln:  nan\n",
      "u_soln:  nan\n"
     ]
    }
   ],
   "source": [
    "# Control loop\n",
    "en_safety_filter = 1 # ENABLE SAFETY FILTER OR NOT\n",
    "\n",
    "tinympc = output_dir * \"/build/tinympc/libtinympcShared\" * os_ext  # Path to the compiled library\n",
    "u = Array{Float32}(zeros(NINPUTS*(NHORIZON-1)))  # List of control inputs in horizon\n",
    "Random.seed!(1234)\n",
    "Xhist = zeros(NSTATES, NTOTAL)\n",
    "x0 = zeros(NSTATES)\n",
    "Xhist[:,1] .= x0 + randn(NSTATES)*0\n",
    "Uhist = zeros(NINPUTS, NTOTAL-1)\n",
    "Upred = zeros(NINPUTS, NHORIZON-1)\n",
    "integral = zeros(NINPUTS)\n",
    "\n",
    "NRUNS = NTOTAL-NHORIZON-1  \n",
    "for i = 1:1\n",
    "    # i%10 == 0 && print(\"i = \", i, \"\\n\")\n",
    "    # Get measurements\n",
    "    pos_norm = norm(Xhist[1:3, i], Inf) / 1e2 # 1% noise\n",
    "    vel_norm = norm(Xhist[4:6, i], Inf) / 1e4 # 1ppm noise\n",
    "    noise_pos = randn(3)\n",
    "    noise_vel = randn(3)\n",
    "    xk = Xhist[:,i] + 0*[noise_pos * pos_norm; noise_vel * vel_norm]\n",
    "    \n",
    "    # Nominal control rollout\n",
    "    rollout!(Upred, xk, Xref[:,i:i+NHORIZON-1], integral)\n",
    "    Uhist[:,i] .= Upred[:,1]\n",
    "    display(Upred)\n",
    "    \n",
    "    # Solve safety filter\n",
    "    if en_safety_filter  == 1\n",
    "        xk = Array{Float32}(xk)\n",
    "        @ccall tinympc.set_x0(xk::Ptr{Float32}, 1::Cint)::Cvoid\n",
    "\n",
    "        Upred_ = Array{Float32}(Upred)  # col-major array\n",
    "        # print(Upred_, \"\\n\")\n",
    "        @ccall tinympc.set_uref(Upred_::Ptr{Float32}, 1::Cint)::Cvoid\n",
    "\n",
    "        @ccall tinympc.call_tiny_solve(0::Cint)::Cvoid\n",
    "\n",
    "        # Get the control input\n",
    "        @ccall tinympc.get_u(u::Ptr{Float32}, 1::Cint)::Cvoid\n",
    "        # println(u)\n",
    "        # Uhist[:,i] .= u[0:NINPUTS]\n",
    "    end\n",
    "\n",
    "    # Clamp control input\n",
    "    # Uhist[:,i] = max.(min.(Uhist[:,i], umax[:,1]), umin[:,1])\n",
    "\n",
    "    # print(Upred, \"\\n\")\n",
    "    # print(solver.workspace.u, \"\\n\")\n",
    "    # print(solver.workspace.x, \"\\n\")\n",
    "\n",
    "    # Simulate\n",
    "    Xhist[:,i+1] .= Adyn*Xhist[:,i] + Bdyn*Uhist[:,i]\n",
    "end"
   ]
  },
  {
   "cell_type": "code",
   "execution_count": 230,
   "metadata": {},
   "outputs": [
    {
     "data": {
      "image/png": "[encoded data removed]",
      "text/plain": [
       "Figure(PyObject <Figure size 640x480 with 1 Axes>)"
      ]
     },
     "metadata": {},
     "output_type": "display_data"
    }
   ],
   "source": [
    "fig = plt.figure()\n",
    "plot(Uhist[1, 1:NRUNS])\n",
    "plot(Uhist[2, 1:NRUNS])\n",
    "plot(Uhist[3, 1:NRUNS])\n",
    "plt.legend([\"ux\", \"uy\", \"uz\"])\n",
    "fig"
   ]
  },
  {
   "cell_type": "code",
   "execution_count": 231,
   "metadata": {},
   "outputs": [
    {
     "data": {
      "image/png": "[encoded data removed]",
      "text/plain": [
       "Figure(PyObject <Figure size 640x480 with 1 Axes>)"
      ]
     },
     "metadata": {},
     "output_type": "display_data"
    }
   ],
   "source": [
    "fig = plt.figure()\n",
    "plot(Xref[1,1:NRUNS], \"--\")\n",
    "plot(Xhist[1,1:NRUNS])\n",
    "plot(Xref[2,1:NRUNS], \"--\") \n",
    "plot(Xhist[2,1:NRUNS])\n",
    "plot(Xref[3,1:NRUNS], \"--\") \n",
    "plot(Xhist[3,1:NRUNS])\n",
    "plt.legend([\"xref\", \"x\", \"yref\", \"y\", \"zref\", \"z\"])\n",
    "# put limit on axis\n",
    "# plt.ylim(-5, 20)\n",
    "# plt.xlim(0, 300)\n",
    "fig"
   ]
  },
  {
   "attachments": {},
   "cell_type": "markdown",
   "metadata": {},
   "source": [
    "Post testing the procedure with the generated code, the next step involves deploying it for your specific applications/systems.\n",
    "The workflow for deployment is tailored to your specific needs, and we aim to provide clear guidance.\n",
    "\n",
    "Your `tiny_main` may look like this"
   ]
  },
  {
   "attachments": {},
   "cell_type": "markdown",
   "metadata": {},
   "source": [
    "```C\n",
    "#include <iostream>\n",
    "\n",
    "#include <tinympc/admm.hpp>\n",
    "#include <tinympc/tiny_data_workspace.hpp>\n",
    "\n",
    "using namespace Eigen;\n",
    "IOFormat CleanFmt(4, 0, \", \", \"\\n\", \"[\", \"]\");\n",
    "\n",
    "#ifdef __cplusplus\n",
    "extern \"C\" {\n",
    "#endif\n",
    "\n",
    "#define NTOTAL 201\n",
    "#define NRUNS (NTOTAL - NHORIZON - 1)\n",
    "#define dt 0.05\n",
    "\n",
    "float kp = 7.0;\n",
    "float kd = 3.0;\n",
    "float ki = 0.1;\n",
    "\n",
    "Vector3f integral;\n",
    "tiny_VectorNx xk;\n",
    "tiny_VectorNx xhrz;\n",
    "tiny_VectorNx xd;\n",
    "tiny_VectorNu uk;\n",
    "\n",
    "int main()\n",
    "{\n",
    "\tint NPOS = int(NSTATES/2);\n",
    "\tint exitflag = 1;\n",
    "\t// Double check some data\n",
    "\t// std::cout << tiny_data_solver.settings->max_iter << std::endl;\n",
    "\t// std::cout << tiny_data_solver.cache->AmBKt.format(CleanFmt) << std::endl;\n",
    "\t// std::cout << tiny_data_solver.work->Adyn.format(CleanFmt) << std::endl;\n",
    "\ttiny_data_solver.settings->en_state_bound = 1;\n",
    "\ttiny_data_solver.settings->max_iter = 100;\n",
    "\n",
    "\tfor (int i = 0; i < NHORIZON-1; i++)\n",
    "\t{\n",
    "\t\ttiny_data_solver.work->x_min.col(i) = -1.0 * tiny_VectorNx::Ones();\n",
    "\t\ttiny_data_solver.work->x_max.col(i) = 1.0 * tiny_VectorNx::Ones();\n",
    "\t\t// tiny_data_solver.work->u_min.col(i) << -3, -3, -1;\n",
    "\t\t// tiny_data_solver.work->u_max.col(i) << 1, 1, 1;\n",
    "\t}\n",
    "\n",
    "\tsrand(1);\n",
    "\txk = tiny_VectorNx::Random()*0.1;\n",
    "\n",
    "\tfor (int i = 0; i < NRUNS; i++)\n",
    "\t{\n",
    "\t\txhrz << xk;\n",
    "\t\t// Rollout the nominal system\n",
    "\t\tfor (int k = 0; k < NHORIZON-1; k++) {\n",
    "\t\t\tfloat temp = 2.0*sin(1*dt*i);\n",
    "\t\t\txd(seq(0,NPOS-1)) = temp * VectorXf::Ones(NPOS);\n",
    "\t\t\t// pid controller\n",
    "\t\t\tintegral = integral + (xd(seq(0,NPOS-1)) - xhrz(seq(0,NPOS-1)))*dt;\n",
    "\t\t\ttiny_data_solver.work->Uref.col(k) << kp*(xd(seq(0,NPOS-1)) - xhrz(seq(0,NPOS-1))) + kd*(xd(seq(NPOS,NSTATES-1)) - xhrz(seq(NPOS,NSTATES-1))) + 0*integral;\n",
    "\t\t\txhrz = tiny_data_solver.work->Adyn * xhrz + tiny_data_solver.work->Bdyn * tiny_data_solver.work->Uref.col(k);\n",
    "\t\t}\n",
    "\t\tuk = tiny_data_solver.work->Uref.col(0);\n",
    "\t\t\n",
    "\t\tif (1) {  // enable safety filter\n",
    "\t\ttiny_data_solver.work->x.col(0) << xk;\n",
    "\n",
    "\t\texitflag = tiny_solve(&tiny_data_solver);\n",
    "\n",
    "\t\tuk = tiny_data_solver.work->u.col(0);\n",
    "\n",
    "\t\tif (exitflag != 1) printf(\"OOPS! Something went wrong!\\n\");\n",
    "\n",
    "\t\t// std::cout << tiny_data_solver.work->u.format(CleanFmt) << std::endl;\n",
    "\t\t}\n",
    "\t\txk = tiny_data_solver.work->Adyn * xk + tiny_data_solver.work->Bdyn * uk;\n",
    "\t\tstd::cout << \"xk = \" << xk.transpose() << std::endl;\n",
    "\t\tstd::cout << \"uk = \" << uk.transpose() << \"\\n\" << std::endl;\n",
    "\t}\n",
    "\treturn 0;\n",
    "}\n",
    "\n",
    "#ifdef __cplusplus\n",
    "} /* extern \"C\" */\n",
    "#endif\n",
    "\n",
    "```"
   ]
  },
  {
   "attachments": {},
   "cell_type": "markdown",
   "metadata": {},
   "source": []
  }
 ],
 "metadata": {
  "kernelspec": {
   "display_name": "Julia 1.6.7",
   "language": "julia",
   "name": "julia-1.6"
  },
  "language_info": {
   "file_extension": ".jl",
   "mimetype": "application/julia",
   "name": "julia",
   "version": "1.6.7"
  },
  "orig_nbformat": 4
 },
 "nbformat": 4,
 "nbformat_minor": 2
}
